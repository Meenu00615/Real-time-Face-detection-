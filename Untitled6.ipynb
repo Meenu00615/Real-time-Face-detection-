{
  "cells": [
    {
      "cell_type": "code",
      "execution_count": null,
      "metadata": {
        "colab": {
          "background_save": true
        },
        "id": "6nx_-yuW4DAm"
      },
      "outputs": [],
      "source": [
        "import cv2"
      ]
    },
    {
      "cell_type": "code",
      "execution_count": null,
      "metadata": {
        "colab": {
          "background_save": true
        },
        "id": "LnaRdQl-9Zfi"
      },
      "outputs": [],
      "source": [
        "import numpy as np\n"
      ]
    },
    {
      "cell_type": "code",
      "execution_count": null,
      "metadata": {
        "colab": {
          "background_save": true
        },
        "id": "6wClutSL9YLa"
      },
      "outputs": [],
      "source": [
        "import cv2\n",
        "\n",
        "#faceCascade = cv2.CascadeClassifier(‘/content/haarcascade_frontalface_default.xml’)\n",
        "faceCascade = cv2.CascadeClassifier('/content/haarcascade_frontalface_default.xml')\n",
        "\n",
        "# /content/haarcascade_frontalface_default.xml\n",
        "\n",
        "cap = cv2.VideoCapture(0)\n",
        "\n",
        "cap.set(3,640) # set Width\n",
        "\n",
        "cap.set(4,480) # set Height"
      ]
    },
    {
      "cell_type": "code",
      "execution_count": null,
      "metadata": {
        "colab": {
          "background_save": true
        },
        "id": "IbHdjp0Q9VW7"
      },
      "outputs": [],
      "source": [
        "while True:\n",
        "    # Capture frame-by-frame\n",
        "    ret, frame = cap.read()\n",
        "    # if frame is read correctly, ret is True\n",
        "    if not ret:\n",
        "        print(\"Can't receive frame (stream end?). Exiting ...\")\n",
        "        break\n",
        "    # Our operations on the frame come here\n",
        "    gray = cv2.cvtColor(frame, cv2.COLOR_BGR2GRAY)\n",
        "\n",
        "    faces = faceCascade.detectMultiScale(\n",
        "        gray,\n",
        "        scaleFactor=1.2,\n",
        "        minNeighbors=5,\n",
        "        minSize=(20, 20)\n",
        "    )\n",
        "\n",
        "    for (x, y, w, h) in faces:\n",
        "        cv2.rectangle(frame, (x, y), (x+w, y+h), (255, 0, 0), 2)\n",
        "        roi_gray = gray[y:y+h, x:x+w]\n",
        "        roi_color = frame[y:y+h, x:x+w]\n",
        "\n",
        "    cv2.imshow('video', frame)\n",
        "\n",
        "    k = cv2.waitKey(30) & 0xff\n",
        "\n",
        "    if k == 27:  # press 'ESC' to quit\n",
        "        break\n",
        "\n",
        "cap.release()\n",
        "cv2.destroyAllWindows()\n"
      ]
    },
    {
      "cell_type": "code",
      "execution_count": null,
      "metadata": {
        "colab": {
          "background_save": true
        },
        "id": "_G_AFBzDBbF2"
      },
      "outputs": [],
      "source": [
        "from google.colab.patches import cv2_imshow\n",
        "\n",
        "cap = cv2.VideoCapture('/content/WIN_20231113_19_39_21_Pro.mp4')  # Change to your video file or camera index\n",
        "\n",
        "if not cap.isOpened():\n",
        "    print(\"Error: Could not open video.\")\n",
        "else:\n",
        "    while True:\n",
        "        ret, frame = cap.read()\n",
        "\n",
        "        if not ret:\n",
        "            print(\"Error: Can't receive frame (stream end?). Exiting ...\")\n",
        "            break\n",
        "\n",
        "        gray = cv2.cvtColor(frame, cv2.COLOR_BGR2GRAY)\n",
        "\n",
        "        faces = faceCascade.detectMultiScale(\n",
        "            gray,\n",
        "            scaleFactor=1.2,\n",
        "            minNeighbors=5,\n",
        "            minSize=(20, 20)\n",
        "        )\n",
        "\n",
        "        for (x, y, w, h) in faces:\n",
        "            cv2.rectangle(frame, (x, y), (x+w, y+h), (255, 0, 0), 2)\n",
        "            roi_gray = gray[y:y+h, x:x+w]\n",
        "            roi_color = frame[y:y+h, x:x+w]\n",
        "\n",
        "        cv2_imshow(frame)\n",
        "\n",
        "        k = cv2.waitKey(30) & 0xff\n",
        "        if k == 27:  # press 'ESC' to quit\n",
        "            break\n",
        "\n",
        "    cap.release()\n",
        "    cv2.destroyAllWindows()\n"
      ]
    },
    {
      "cell_type": "code",
      "execution_count": null,
      "metadata": {
        "colab": {
          "background_save": true
        },
        "id": "rHGGnBWJHJSJ"
      },
      "outputs": [],
      "source": []
    },
    {
      "cell_type": "code",
      "execution_count": null,
      "metadata": {
        "colab": {
          "background_save": true
        },
        "id": "YzWKdzE8HJOi"
      },
      "outputs": [],
      "source": []
    },
    {
      "cell_type": "code",
      "execution_count": null,
      "metadata": {
        "colab": {
          "background_save": true
        },
        "id": "aJvuP2gGIWYA"
      },
      "outputs": [],
      "source": []
    },
    {
      "cell_type": "code",
      "execution_count": null,
      "metadata": {
        "colab": {
          "background_save": true
        },
        "id": "DtBhDcizIWNO"
      },
      "outputs": [],
      "source": [
        "from google.colab.patches import cv2_imshow\n",
        "from IPython.display import display, Javascript\n",
        "import numpy as np\n",
        "import cv2"
      ]
    },
    {
      "cell_type": "code",
      "execution_count": null,
      "metadata": {
        "colab": {
          "background_save": true
        },
        "id": "diH3_qiXHKN7"
      },
      "outputs": [],
      "source": [
        "\n",
        "\n",
        "# Function to start webcam\n",
        "def start_webcam():\n",
        "    js = (\n",
        "        \"var video = document.createElement('video');\"\n",
        "        \"document.body.appendChild(video);\"\n",
        "        \"navigator.mediaDevices.getUserMedia({ video: true }).then(\"\n",
        "        \"  function(stream) {\"\n",
        "        \"    video.srcObject = stream;\"\n",
        "        \"    video.onloadedmetadata = function() {\"\n",
        "        \"      video.play();\"\n",
        "        \"    };\"\n",
        "        \"  }\"\n",
        "        \");\"\n",
        "    )\n",
        "    display(Javascript(js))\n",
        "\n",
        "# Function to capture a frame from the webcam\n",
        "def capture_frame():\n",
        "    js = (\n",
        "        \"var canvas = document.createElement('canvas');\"\n",
        "        \"canvas.width = video.videoWidth;\"\n",
        "        \"canvas.height = video.videoHeight;\"\n",
        "        \"var context = canvas.getContext('2d');\"\n",
        "        \"context.drawImage(video, 0, 0, canvas.width, canvas.height);\"\n",
        "        \"IPython.notebook.kernel.execute('frame = ' + JSON.stringify(context.getImageData(0, 0, canvas.width, canvas.height).data.buffer));\"\n",
        "    )\n",
        "    display(Javascript(js))\n",
        "\n",
        "# Start webcam\n",
        "start_webcam()\n",
        "\n",
        "# Load face cascade\n",
        "faceCascade = cv2.CascadeClassifier(cv2.data.haarcascades + '/content/haarcascade_frontalface_default.xml')\n",
        "\n",
        "while True:\n",
        "    # Capture frame from webcam\n",
        "    capture_frame()\n",
        "\n",
        "    # Check if frame is not None\n",
        "    if 'frame' in locals() and frame is not None:\n",
        "        # Convert the captured frame to a numpy array\n",
        "        frame = np.frombuffer(frame, dtype=np.uint8).reshape((480, 640, 4))  # Adjust dimensions based on your webcam\n",
        "\n",
        "        # Convert to grayscale\n",
        "        gray = cv2.cvtColor(frame, cv2.COLOR_RGBA2GRAY)\n",
        "\n",
        "        # Perform face detection\n",
        "        faces = faceCascade.detectMultiScale(\n",
        "            gray,\n",
        "            scaleFactor=1.2,\n",
        "            minNeighbors=5,\n",
        "            minSize=(20, 20)\n",
        "        )\n",
        "\n",
        "        # Draw rectangles around the faces\n",
        "        for (x, y, w, h) in faces:\n",
        "            cv2.rectangle(frame, (x, y), (x+w, y+h), (255, 0, 0), 2)\n",
        "\n",
        "        # Display the result\n",
        "        cv2_imshow(frame)\n",
        "\n",
        "    # Break the loop if 'ESC' key is pressed\n",
        "    if cv2.waitKey(1) & 0xFF == 27:\n",
        "        break\n",
        "\n",
        "# Release the webcam\n",
        "cv2.destroyAllWindows()\n"
      ]
    }
  ],
  "metadata": {
    "colab": {
      "provenance": []
    },
    "kernelspec": {
      "display_name": "Python 3",
      "name": "python3"
    },
    "language_info": {
      "name": "python"
    }
  },
  "nbformat": 4,
  "nbformat_minor": 0
}